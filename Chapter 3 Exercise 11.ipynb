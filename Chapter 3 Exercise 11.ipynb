{
 "cells": [
  {
   "cell_type": "markdown",
   "metadata": {},
   "source": [
    "#Exercise 3.11"
   ]
  },
  {
   "cell_type": "code",
   "execution_count": 1,
   "metadata": {
    "collapsed": true
   },
   "outputs": [],
   "source": [
    "%matplotlib inline\n",
    "import matplotlib.pyplot as plt\n",
    "import numpy as np\n",
    "import pandas as pd\n",
    "import seaborn as sns\n",
    "import statsmodels.api as sm\n",
    "import statsmodels.formula.api as smf"
   ]
  },
  {
   "cell_type": "markdown",
   "metadata": {},
   "source": [
    "##3.11 a"
   ]
  },
  {
   "cell_type": "code",
   "execution_count": 2,
   "metadata": {
    "collapsed": false
   },
   "outputs": [
    {
     "name": "stdout",
     "output_type": "stream",
     "text": [
      "                            OLS Regression Results                            \n",
      "==============================================================================\n",
      "Dep. Variable:                      y   R-squared:                       0.935\n",
      "Model:                            OLS   Adj. R-squared:                  0.934\n",
      "Method:                 Least Squares   F-statistic:                     1423.\n",
      "Date:                Sun, 09 Aug 2015   Prob (F-statistic):           1.50e-60\n",
      "Time:                        09:46:54   Log-Likelihood:                -52.254\n",
      "No. Observations:                 100   AIC:                             106.5\n",
      "Df Residuals:                      99   BIC:                             109.1\n",
      "Df Model:                           1                                         \n",
      "Covariance Type:            nonrobust                                         \n",
      "==============================================================================\n",
      "                 coef    std err          t      P>|t|      [95.0% Conf. Int.]\n",
      "------------------------------------------------------------------------------\n",
      "x              2.7227      0.072     37.718      0.000         2.579     2.866\n",
      "==============================================================================\n",
      "Omnibus:                        6.500   Durbin-Watson:                   1.563\n",
      "Prob(Omnibus):                  0.039   Jarque-Bera (JB):                2.869\n",
      "Skew:                           0.057   Prob(JB):                        0.238\n",
      "Kurtosis:                       2.178   Cond. No.                         1.00\n",
      "==============================================================================\n",
      "\n",
      "Warnings:\n",
      "[1] Standard Errors assume that the covariance matrix of the errors is correctly specified.\n"
     ]
    }
   ],
   "source": [
    "np.random.seed(1)\n",
    "x = np.random.rand(100)\n",
    "y = 2*x + np.random.rand(100)\n",
    "data = pd.DataFrame({'x': x, 'y': y})\n",
    "model = smf.ols('y ~ x + 0', data=data)\n",
    "fit = model.fit()\n",
    "print(fit.summary())"
   ]
  },
  {
   "cell_type": "markdown",
   "metadata": {},
   "source": [
    "##3.11 b-e"
   ]
  },
  {
   "cell_type": "code",
   "execution_count": 3,
   "metadata": {
    "collapsed": false
   },
   "outputs": [
    {
     "name": "stdout",
     "output_type": "stream",
     "text": [
      "                            OLS Regression Results                            \n",
      "==============================================================================\n",
      "Dep. Variable:                      x   R-squared:                       0.935\n",
      "Model:                            OLS   Adj. R-squared:                  0.934\n",
      "Method:                 Least Squares   F-statistic:                     1423.\n",
      "Date:                Sun, 09 Aug 2015   Prob (F-statistic):           1.50e-60\n",
      "Time:                        09:47:38   Log-Likelihood:                 51.273\n",
      "No. Observations:                 100   AIC:                            -100.5\n",
      "Df Residuals:                      99   BIC:                            -97.94\n",
      "Df Model:                           1                                         \n",
      "Covariance Type:            nonrobust                                         \n",
      "==============================================================================\n",
      "                 coef    std err          t      P>|t|      [95.0% Conf. Int.]\n",
      "------------------------------------------------------------------------------\n",
      "y              0.3434      0.009     37.718      0.000         0.325     0.361\n",
      "==============================================================================\n",
      "Omnibus:                        4.335   Durbin-Watson:                   1.767\n",
      "Prob(Omnibus):                  0.114   Jarque-Bera (JB):                2.285\n",
      "Skew:                          -0.049   Prob(JB):                        0.319\n",
      "Kurtosis:                       2.266   Cond. No.                         1.00\n",
      "==============================================================================\n",
      "\n",
      "Warnings:\n",
      "[1] Standard Errors assume that the covariance matrix of the errors is correctly specified.\n"
     ]
    }
   ],
   "source": [
    "model2 = smf.ols('x ~ y + 0', data=data)\n",
    "fit2 = model2.fit()\n",
    "print(fit2.summary())"
   ]
  },
  {
   "cell_type": "markdown",
   "metadata": {},
   "source": [
    "##3.11 f"
   ]
  },
  {
   "cell_type": "code",
   "execution_count": 6,
   "metadata": {
    "collapsed": false
   },
   "outputs": [
    {
     "name": "stdout",
     "output_type": "stream",
     "text": [
      "Model 1\n",
      "                            OLS Regression Results                            \n",
      "==============================================================================\n",
      "Dep. Variable:                      y   R-squared:                       0.772\n",
      "Model:                            OLS   Adj. R-squared:                  0.769\n",
      "Method:                 Least Squares   F-statistic:                     330.9\n",
      "Date:                Sun, 09 Aug 2015   Prob (F-statistic):           3.49e-33\n",
      "Time:                        09:50:31   Log-Likelihood:                -26.736\n",
      "No. Observations:                 100   AIC:                             57.47\n",
      "Df Residuals:                      98   BIC:                             62.68\n",
      "Df Model:                           1                                         \n",
      "Covariance Type:            nonrobust                                         \n",
      "==============================================================================\n",
      "                 coef    std err          t      P>|t|      [95.0% Conf. Int.]\n",
      "------------------------------------------------------------------------------\n",
      "Intercept      0.4978      0.062      8.078      0.000         0.376     0.620\n",
      "x              1.9733      0.108     18.191      0.000         1.758     2.189\n",
      "==============================================================================\n",
      "Omnibus:                       92.818   Durbin-Watson:                   1.766\n",
      "Prob(Omnibus):                  0.000   Jarque-Bera (JB):                8.085\n",
      "Skew:                          -0.030   Prob(JB):                       0.0176\n",
      "Kurtosis:                       1.608   Cond. No.                         4.26\n",
      "==============================================================================\n",
      "\n",
      "Warnings:\n",
      "[1] Standard Errors assume that the covariance matrix of the errors is correctly specified.\n",
      "\n",
      "Model 2\n",
      "                            OLS Regression Results                            \n",
      "==============================================================================\n",
      "Dep. Variable:                      x   R-squared:                       0.772\n",
      "Model:                            OLS   Adj. R-squared:                  0.769\n",
      "Method:                 Least Squares   F-statistic:                     330.9\n",
      "Date:                Sun, 09 Aug 2015   Prob (F-statistic):           3.49e-33\n",
      "Time:                        09:50:31   Log-Likelihood:                 54.203\n",
      "No. Observations:                 100   AIC:                            -104.4\n",
      "Df Residuals:                      98   BIC:                            -99.20\n",
      "Df Model:                           1                                         \n",
      "Covariance Type:            nonrobust                                         \n",
      "==============================================================================\n",
      "                 coef    std err          t      P>|t|      [95.0% Conf. Int.]\n",
      "------------------------------------------------------------------------------\n",
      "Intercept     -0.0836      0.034     -2.432      0.017        -0.152    -0.015\n",
      "y              0.3910      0.021     18.191      0.000         0.348     0.434\n",
      "==============================================================================\n",
      "Omnibus:                       11.227   Durbin-Watson:                   1.726\n",
      "Prob(Omnibus):                  0.004   Jarque-Bera (JB):                3.800\n",
      "Skew:                          -0.058   Prob(JB):                        0.150\n",
      "Kurtosis:                       2.052   Cond. No.                         5.19\n",
      "==============================================================================\n",
      "\n",
      "Warnings:\n",
      "[1] Standard Errors assume that the covariance matrix of the errors is correctly specified.\n"
     ]
    }
   ],
   "source": [
    "modelp = smf.ols('y ~ x', data=data)\n",
    "fitp = modelp.fit()\n",
    "print('Model 1')\n",
    "print(fitp.summary())\n",
    "print()\n",
    "print('Model 2')\n",
    "model2p = smf.ols('x ~ y', data=data)\n",
    "fit2p = model2p.fit()\n",
    "print(fit2p.summary())"
   ]
  },
  {
   "cell_type": "code",
   "execution_count": null,
   "metadata": {
    "collapsed": true
   },
   "outputs": [],
   "source": []
  }
 ],
 "metadata": {
  "kernelspec": {
   "display_name": "Python 3",
   "language": "python",
   "name": "python3"
  },
  "language_info": {
   "codemirror_mode": {
    "name": "ipython",
    "version": 3
   },
   "file_extension": ".py",
   "mimetype": "text/x-python",
   "name": "python",
   "nbconvert_exporter": "python",
   "pygments_lexer": "ipython3",
   "version": "3.4.3"
  }
 },
 "nbformat": 4,
 "nbformat_minor": 0
}
